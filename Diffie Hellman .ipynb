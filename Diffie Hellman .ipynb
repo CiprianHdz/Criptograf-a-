{
 "cells": [
  {
   "cell_type": "markdown",
   "metadata": {},
   "source": [
    "# Parámetros Conocidos (Domain parameters)\n",
    "- P, número primo que determina el campo sobre el que trabaja la curva $\\mathbb{F}_p$\n",
    "- n es el orden del campo, esto es el número de puntos enteros.\n",
    "- Acurve y Bcurve representan los parámetros de la ecuación $y^2=x^3 + (Acurve) x^2 + (Bcurve)$\n",
    "- PrivKey es un entero que se encuentra dentro del intervalo $ 1 \\leq (PrivKey) \\leq p-1 $"
   ]
  },
  {
   "cell_type": "markdown",
   "metadata": {},
   "source": [
    "Ejemplo básico:\n",
    "\n",
    ">Pcurve=17 <br>\n",
    "N=19 #19 <br>\n",
    "Acurve=2; Bcurve=2 <br>\n",
    "Gx=5; Gy=1 <br>\n",
    "Gpoint=(Gx,Gy) #Definimos una tupla (un par ordenado) <br>\n",
    "privKey=13 <br>"
   ]
  },
  {
   "cell_type": "code",
   "execution_count": 75,
   "metadata": {},
   "outputs": [],
   "source": [
    "Pcurve=2**256-2**32-2**9-2**8-2**7-2**6-2**4-1\n",
    "N=0xFFFFFFFFFFFFFFFFFFFFFFFFFFFFFFFEBAAEDCE6AF48A03BBFD25E8CD0364141\n",
    "Acurve=0; Bcurve=7\n",
    "privKey=0xA0DC65FFCA799873CBEA0AC274015B9526505DAAAED385155425F7337704883E"
   ]
  },
  {
   "cell_type": "markdown",
   "metadata": {},
   "source": [
    "Para obetener el punto generado, se nos da el punto $x$ de forma hexadecimal, por lo tanto, convirtiendolo en decimal para obtener la parte $y$: "
   ]
  },
  {
   "cell_type": "code",
   "execution_count": 78,
   "metadata": {},
   "outputs": [
    {
     "data": {
      "text/plain": [
       "55066263022277343669578718895168534326250603453777594175500187360389116729240L"
      ]
     },
     "execution_count": 78,
     "metadata": {},
     "output_type": "execute_result"
    }
   ],
   "source": [
    "Gx=int(0x79BE667EF9DCBBAC55A06295CE870B07029BFCDB2DCE28D959F2815B16F81798)\n",
    "Gx"
   ]
  },
  {
   "cell_type": "markdown",
   "metadata": {},
   "source": [
    "Para tener el punto hacemos $y=\\sqrt{x^3+7}$"
   ]
  },
  {
   "cell_type": "code",
   "execution_count": 91,
   "metadata": {},
   "outputs": [
    {
     "data": {
      "text/plain": [
       "12921960443297828860891648158292471819675107701313235361247994568418618525728663521040370767731172617416358500499456L"
      ]
     },
     "execution_count": 91,
     "metadata": {},
     "output_type": "execute_result"
    }
   ],
   "source": [
    "import math\n",
    "\n",
    "Gy=int(math.sqrt((Gx*Gx*Gx)+7))\n",
    "Gy"
   ]
  },
  {
   "cell_type": "code",
   "execution_count": 92,
   "metadata": {},
   "outputs": [],
   "source": [
    "Gpoint=(Gx,Gy)\n"
   ]
  },
  {
   "cell_type": "markdown",
   "metadata": {},
   "source": [
    "### Con los parámetros dados, el objetivo es logar generar una llave pública \n",
    "$ \\Large K_{pub}=K_{priv}G$"
   ]
  },
  {
   "cell_type": "markdown",
   "metadata": {},
   "source": [
    "La primera función a implementar es el de la división modular\n",
    "***\n",
    " $\\frac{a}{b} \\mod n = (a * b^{-1}) \\mod n$\n",
    "***\n",
    "Por tanto, para hacer este producto más sencillo, encontramos el inverso de $b$. \n",
    "***\n",
    "### Algoritmo Extendido  de Euclides \n",
    "***\n",
    "> \n",
    "Para determinar el inverso multiplicativo de $b$ se tiene el siguiente algoritmo: <br>\n",
    "Entrada: a y n \n",
    "$r_1 = n , r_2 =a$ <br>\n",
    "$t_1 =0 , t_2= 1$ <br>\n",
    "Mientras $r_1>1$ entonces: <br>\n",
    "$q=\\frac{r_1}{r_2}$ (División entera)<br>\n",
    "$r=r_1-q*r_2$<br>\n",
    "$r_1=r_2, r_2=r$<br>\n",
    "$t=t_1-q*t_2$<br>\n",
    "$t_1=t_2, t_2=t$<br>\n",
    "Fin Mientras<br>\n",
    "Si $r_1=1$ entonces $t=a^{-1}$\n",
    "\n",
    "Tomado de _[MultiInverse](https://cap430.files.wordpress.com/2011/03/multiplicative-inverse.pdf)_"
   ]
  },
  {
   "cell_type": "code",
   "execution_count": 33,
   "metadata": {},
   "outputs": [],
   "source": [
    "def ECDiv(a, n=Pcurve): #Regresa el inverso de a módulo n\n",
    "    r1,r2=n,a\n",
    "    t1,t2=0,1\n",
    "    while r1 >1:\n",
    "        q=r1 // r2\n",
    "        r=r1-q*r2\n",
    "        r1,r2=r2,r\n",
    "        t=t1-q*t2\n",
    "        t1,t2=t2,t    \n",
    "        \n",
    "    return t1%n #Este último es para evitar valores negativos"
   ]
  },
  {
   "cell_type": "markdown",
   "metadata": {},
   "source": [
    "### Ejemplo"
   ]
  },
  {
   "cell_type": "code",
   "execution_count": 34,
   "metadata": {},
   "outputs": [
    {
     "name": "stdout",
     "output_type": "stream",
     "text": [
      "19\n",
      "11*19 mod 26 = 1\n"
     ]
    }
   ],
   "source": [
    "print ECDiv(11,26)\n",
    "print \"11*19 mod 26 =\" , (ECDiv(11,26)* 11)%26          "
   ]
  },
  {
   "cell_type": "markdown",
   "metadata": {},
   "source": [
    "# Suma de puntos en una curva elíptica"
   ]
  },
  {
   "cell_type": "markdown",
   "metadata": {},
   "source": [
    "## Puntos diferentes\n",
    "Para la suma de puntos $P=(x_P, y_P)$ y $Q=(x_Q, y_Q)$, para calcular $P +Q= R$ donde $P \\neq Q$\n",
    "y $R=(x_R,y_R)$ se obtiene haciendo las siguientes fórmulas: \n",
    "***\n",
    "La pendiente es calculada como $m= \\frac{(y_Q- y_P)}{(x_Q-x_Q)} \\mod p$\n",
    "*** \n",
    "$ x_R= (m^2-x_P-x_Q) \\mod p $ <br>\n",
    "$ y_R= (m(x_P-x_R)-y_P) \\mod p$\n",
    "***\n",
    "De donde $a=(a[0], a[1])$ y $b=(b[0], b[1])$, así se intenta hacer $a+b=c=(x,y)$ \n",
    "*** \n",
    "> Por lo tanto el código tiene la siguiente forma: <br>\n",
    "$m= (b[1]-a[1])*(b[0]-a[0])^{-1} \\mod Pcurve$ <br>\n",
    "$ x= (m^2-a[0]-b[0]) \\mod p $ <br>\n",
    "$ y= (m(a[0]-x)-a[1]) \\mod p$"
   ]
  },
  {
   "cell_type": "code",
   "execution_count": 61,
   "metadata": {},
   "outputs": [],
   "source": [
    "def ECSum(a,b): #Suma de puntos en la curva elíptica\n",
    "    m=( ((b[1]-a[1])% Pcurve) * ECDiv((b[0]-a[0])%Pcurve, Pcurve) ) % Pcurve\n",
    "    x=(m*m-a[0]-b[0]) % Pcurve\n",
    "    y=(m*(a[0]-x)-a[1]) % Pcurve\n",
    "    return (x,y)"
   ]
  },
  {
   "cell_type": "markdown",
   "metadata": {},
   "source": [
    "### Ejemplo"
   ]
  },
  {
   "cell_type": "code",
   "execution_count": 36,
   "metadata": {},
   "outputs": [
    {
     "name": "stdout",
     "output_type": "stream",
     "text": [
      "(10, 6)\n"
     ]
    }
   ],
   "source": [
    "a=(5,1)\n",
    "b=(6,3)\n",
    "print ECSum(a,b)"
   ]
  },
  {
   "cell_type": "markdown",
   "metadata": {},
   "source": [
    "## Puntos iguales (Doubling)\n",
    "\n",
    "Para la suma de puntos $P=(x, y)$ , para calcular $P + P= 2P$ se obtiene haciendo las siguientes fórmulas: \n",
    "***\n",
    "La pendiente es calculada como $\\displaystyle m= ( \\frac{3*x^2+Acurve}{2y} ) \\mod p$\n",
    "*** \n",
    "$ x_R= (m^2-x_P-x_Q) \\mod p $ <br>\n",
    "$ y_R= (m(x_P-x_R)-y_P) \\mod p$\n",
    "***\n",
    "Notemos que en el códgio $a=(a[0], a[1])$ y $b=(b[0], b[1])$ y adecuando las fórmulas anteriores tenemos lo siguiente: \n",
    "*** \n",
    " > Código <br>\n",
    " $ m= (3*a[0]^2 + Acurve ) (2*a[1])^{-1} \\mod p$ <br>\n",
    " $ x= (m^2-2*a[0]) \\mod p $ <br>\n",
    " $ y= (m(a[0]-x)-a[1]) \\mod p$ \n",
    " "
   ]
  },
  {
   "cell_type": "code",
   "execution_count": 6,
   "metadata": {},
   "outputs": [],
   "source": [
    "def ECDoub(a): #Suma iterada del punto \n",
    "    m= ((3*(a[0]*a[0])+Acurve)* ECDiv(2*a[1], Pcurve))% Pcurve\n",
    "    x= ((m*m)-2*a[0]) % Pcurve\n",
    "    y= (m*(a[0]-x)-a[1]) % Pcurve\n",
    "    return (x,y)"
   ]
  },
  {
   "cell_type": "markdown",
   "metadata": {},
   "source": [
    "### Ejemplo"
   ]
  },
  {
   "cell_type": "code",
   "execution_count": 37,
   "metadata": {},
   "outputs": [
    {
     "name": "stdout",
     "output_type": "stream",
     "text": [
      "(5,1)+(5,1)= (6, 3)\n"
     ]
    }
   ],
   "source": [
    "print \"(5,1)+(5,1)=\", ECDoub((5,1))"
   ]
  },
  {
   "cell_type": "markdown",
   "metadata": {},
   "source": [
    "# Add and Doubling\n",
    "Notemos que el hecho de calcular $R=dQ$ es equivalente a hacer \n",
    "$R=dP=P+P+ \\cdots + P_{d veces}$ hacemos uso del algoritmo llamado \"double and add\"\n",
    "que tiene el siguiente algoritmo:\n",
    "***\n",
    "Dado un punto $P$ y un entero $d$ que se puede representar como \n",
    "$d=\\sum_{i=0}^{t} d_i 2^i $ con $d_i \\in \\{0,1\\}$\n",
    "***\n",
    "> \n",
    "Inicialización<br>\n",
    "$Q=P$ <br>\n",
    "Para cada i de len(d)-1 hasta 0 hacer: <br>\n",
    "Q= Q+Q\n",
    "Si d_i=1 entonces : <br>\n",
    "Q=Q+P <br>\n",
    "Fin Para"
   ]
  },
  {
   "cell_type": "code",
   "execution_count": 87,
   "metadata": {},
   "outputs": [],
   "source": [
    "def ECMult(Genpoint, key): #Operación de dQ, Entrada: P , d\n",
    "    if key ==0 or  key >= N: raise Exception(\"Llave inválida\") #Evitar errores\n",
    "    keyBin=str( bin(key) ) [2:] #Pasamos d en su representación binaria\n",
    "    #print \"Binario\",keyBin\n",
    "    Q=Genpoint #Inicialización \n",
    "    for i in range(1,len(keyBin)):\n",
    "        #print Q\n",
    "        Q = ECDoub(Q); #print \"Doub\",Q\n",
    "        if keyBin[i] =='1':\n",
    "            Q=ECSum(Q,Genpoint); #print \"Add\",Q\n",
    "       \n",
    "    return Q \n",
    "    "
   ]
  },
  {
   "cell_type": "markdown",
   "metadata": {},
   "source": [
    "# Diffie Hellman Key Exchange\n",
    "***\n",
    "Una vez conocidos los parámetros $\\{C,a,b,p,n,G\\}$, podemos obtener una llave pública de la siguiente manera:\n",
    "> $K_{p}=dG$\n"
   ]
  },
  {
   "cell_type": "code",
   "execution_count": 73,
   "metadata": {},
   "outputs": [
    {
     "name": "stdout",
     "output_type": "stream",
     "text": [
      "La llave pública es: Binario 1011\n",
      "Doub (6, 3)\n",
      "Doub (3, 1)\n",
      "Add (9, 16)\n",
      "Doub (7, 11)\n",
      "Add (13, 10)\n",
      "(13, 10)\n"
     ]
    }
   ],
   "source": [
    "print \"La llave pública es:\", ECMult((5,1), 11)"
   ]
  },
  {
   "cell_type": "markdown",
   "metadata": {},
   "source": [
    "# Ejemplo\n",
    "\n",
    "De la página gubernamental para la selección de parámetros públicos que se puede visitar dando click \n",
    "_[aquí](http://www.secg.org/sec2-v2.pdf)_ tomaremos como **Ejemplo** los siguientes parámetros:\n",
    "***\n",
    "> \n",
    "$EC: y^2= x^2+ 7$ <br>\n",
    "$p=2^{256}−2^{32}−2^{9}−2^{28}−2^{7}−2^{6}−2^{4}−1$ <br>\n",
    "$n=FFFFFFFF FFFFFFFF FFFFFFFF FFFFFFFE BAAEDCE6 AF48A03B BFD25E8C\n",
    "D0364141$ <br>\n"
   ]
  },
  {
   "cell_type": "code",
   "execution_count": 93,
   "metadata": {},
   "outputs": [
    {
     "name": "stdout",
     "output_type": "stream",
     "text": [
      "La llave pública es: (115009754428600178819952671679209779110224617022865186266424642699528293783604L, 57427883689044799006240979316062677995411505093762760627500803341082479000615L)\n"
     ]
    }
   ],
   "source": [
    "print \"La llave pública es:\", ECMult(Gpoint,privKey)"
   ]
  },
  {
   "cell_type": "code",
   "execution_count": null,
   "metadata": {},
   "outputs": [],
   "source": []
  }
 ],
 "metadata": {
  "kernelspec": {
   "display_name": "Python 2",
   "language": "python",
   "name": "python2"
  },
  "language_info": {
   "codemirror_mode": {
    "name": "ipython",
    "version": 2
   },
   "file_extension": ".py",
   "mimetype": "text/x-python",
   "name": "python",
   "nbconvert_exporter": "python",
   "pygments_lexer": "ipython2",
   "version": "2.7.14"
  }
 },
 "nbformat": 4,
 "nbformat_minor": 2
}
